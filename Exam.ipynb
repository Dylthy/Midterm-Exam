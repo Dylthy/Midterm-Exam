{
 "cells": [
  {
   "cell_type": "markdown",
   "metadata": {},
   "source": [
    "***Question 1 (10 pts)***"
   ]
  },
  {
   "cell_type": "markdown",
   "metadata": {},
   "source": [
    "1.a) Write the code that creates a string variable. Use the function **type ()** to confirm the data type of the variable. (2.5 pts)<br>"
   ]
  },
  {
   "cell_type": "code",
   "execution_count": 22,
   "metadata": {},
   "outputs": [
    {
     "data": {
      "text/plain": [
       "str"
      ]
     },
     "execution_count": 22,
     "metadata": {},
     "output_type": "execute_result"
    }
   ],
   "source": [
    "# Write the code here\n",
    "nameUSSenator=\"Henry Cabot Lodge Jr.\"\n",
    "type(nameUSSenator)"
   ]
  },
  {
   "cell_type": "markdown",
   "metadata": {},
   "source": [
    "1.b) Write the code that creates a numeric variable. Use the function **type ()** to confirm the data type of the variable. (2.5 pts)<br>"
   ]
  },
  {
   "cell_type": "code",
   "execution_count": 16,
   "metadata": {},
   "outputs": [
    {
     "data": {
      "text/plain": [
       "int"
      ]
     },
     "execution_count": 16,
     "metadata": {},
     "output_type": "execute_result"
    }
   ],
   "source": [
    "# Write the code here\n",
    "testNum=24\n",
    "type(testNum)"
   ]
  },
  {
   "cell_type": "markdown",
   "metadata": {},
   "source": [
    "1.c) Write the code that creates a date/time variable. Use the function **type ()** to confirm the data type of the variable. (2.5 pts)<br>"
   ]
  },
  {
   "cell_type": "code",
   "execution_count": 19,
   "metadata": {},
   "outputs": [
    {
     "data": {
      "text/plain": [
       "datetime.date"
      ]
     },
     "execution_count": 19,
     "metadata": {},
     "output_type": "execute_result"
    }
   ],
   "source": [
    "# Write the code here\n",
    "import datetime\n",
    "birthdateMakhno=datetime.date(1888,11,8)\n",
    "type(birthdateMakhno)"
   ]
  },
  {
   "cell_type": "markdown",
   "metadata": {},
   "source": [
    "1.d) Write the code that creates a boolean variable. Use the function **type ()** to confirm the data type of the variable. (2.5 pts)<br>"
   ]
  },
  {
   "cell_type": "code",
   "execution_count": 20,
   "metadata": {},
   "outputs": [
    {
     "data": {
      "text/plain": [
       "bool"
      ]
     },
     "execution_count": 20,
     "metadata": {},
     "output_type": "execute_result"
    }
   ],
   "source": [
    "# Write the code here\n",
    "isUkraineFree=True\n",
    "type(isUkraineFree)"
   ]
  },
  {
   "cell_type": "markdown",
   "metadata": {},
   "source": [
    "***Question 2 (10 pts)***"
   ]
  },
  {
   "cell_type": "markdown",
   "metadata": {},
   "source": [
    "Assuming the list of product names:\n",
    "<br>\n",
    "<br>\n",
    "productsName = [\"Bush Somerset Collection Bookcase\",\"Hon Deluxe Fabric Upholstered Stacking Chairs, Rounded Back\",\"Self-Adhesive Address Labels for Typewriters by Universal\",\"Bretford CR4500 Series Slim Rectangular Table\",\"Eldon Fold 'N Roll Cart System\",\"Eldon Expressions Wood and Plastic Desk Accessories, Cherry Wood\",\"Newell 322\",\"Mitel 5320 IP Phone VoIP phone\"]\n"
   ]
  },
  {
   "cell_type": "code",
   "execution_count": 5,
   "metadata": {},
   "outputs": [
    {
     "data": {
      "text/plain": [
       "['Bush Somerset Collection Bookcase',\n",
       " 'Hon Deluxe Fabric Upholstered Stacking Chairs, Rounded Back',\n",
       " 'Self-Adhesive Address Labels for Typewriters by Universal',\n",
       " 'Bretford CR4500 Series Slim Rectangular Table',\n",
       " \"Eldon Fold 'N Roll Cart System\",\n",
       " 'Eldon Expressions Wood and Plastic Desk Accessories, Cherry Wood',\n",
       " 'Newell 322',\n",
       " 'Mitel 5320 IP Phone VoIP phone']"
      ]
     },
     "execution_count": 5,
     "metadata": {},
     "output_type": "execute_result"
    }
   ],
   "source": [
    "productsName = [\"Bush Somerset Collection Bookcase\",\"Hon Deluxe Fabric Upholstered Stacking Chairs, Rounded Back\",\"Self-Adhesive Address Labels for Typewriters by Universal\",\"Bretford CR4500 Series Slim Rectangular Table\",\"Eldon Fold 'N Roll Cart System\",\"Eldon Expressions Wood and Plastic Desk Accessories, Cherry Wood\",\"Newell 322\",\"Mitel 5320 IP Phone VoIP phone\"]\n",
    "productsName"
   ]
  },
  {
   "cell_type": "markdown",
   "metadata": {},
   "source": [
    "2.a) Write the code that returns the number of products in the list productsName (2.5 pts)\n",
    "<br>"
   ]
  },
  {
   "cell_type": "code",
   "execution_count": 6,
   "metadata": {},
   "outputs": [
    {
     "data": {
      "text/plain": [
       "8"
      ]
     },
     "execution_count": 6,
     "metadata": {},
     "output_type": "execute_result"
    }
   ],
   "source": [
    "# Write the code here\n",
    "count=len(productsName)\n",
    "count"
   ]
  },
  {
   "cell_type": "markdown",
   "metadata": {},
   "source": [
    "2.b) Write the code that returns the first five products of the list productsName (2.5 pts)\n",
    "<br>"
   ]
  },
  {
   "cell_type": "code",
   "execution_count": 37,
   "metadata": {},
   "outputs": [
    {
     "data": {
      "text/plain": [
       "['Bush Somerset Collection Bookcase',\n",
       " 'Hon Deluxe Fabric Upholstered Stacking Chairs, Rounded Back',\n",
       " 'Self-Adhesive Address Labels for Typewriters by Universal',\n",
       " \"Eldon Fold 'N Roll Cart System\",\n",
       " 'Eldon Expressions Wood and Plastic Desk Accessories, Cherry Wood']"
      ]
     },
     "execution_count": 37,
     "metadata": {},
     "output_type": "execute_result"
    }
   ],
   "source": [
    "# Write the code here\n",
    "productsName[0:5]"
   ]
  },
  {
   "cell_type": "markdown",
   "metadata": {},
   "source": [
    "2.c) Write the code that adds the product name \"DXL Angle-View Binders with Locking Rings by Samsill\" to the list productsName (2.5 pts)\n",
    "<br>"
   ]
  },
  {
   "cell_type": "code",
   "execution_count": 12,
   "metadata": {},
   "outputs": [
    {
     "data": {
      "text/plain": [
       "['Bush Somerset Collection Bookcase',\n",
       " 'Hon Deluxe Fabric Upholstered Stacking Chairs, Rounded Back',\n",
       " 'Self-Adhesive Address Labels for Typewriters by Universal',\n",
       " 'Bretford CR4500 Series Slim Rectangular Table',\n",
       " \"Eldon Fold 'N Roll Cart System\",\n",
       " 'Eldon Expressions Wood and Plastic Desk Accessories, Cherry Wood',\n",
       " 'Newell 322',\n",
       " 'Mitel 5320 IP Phone VoIP phone',\n",
       " 'DXL Angle-View Binders with Locking Rings by Samsill']"
      ]
     },
     "execution_count": 12,
     "metadata": {},
     "output_type": "execute_result"
    }
   ],
   "source": [
    "# Write the code here\n",
    "productsName.append(\"DXL Angle-View Binders with Locking Rings by Samsill\")\n",
    "productsName"
   ]
  },
  {
   "cell_type": "markdown",
   "metadata": {},
   "source": [
    "2.d) Write the code that removes the product name \"Bretford CR4500 Series Slim Rectangular Table\" from the list productsName (2.5 pts)\n",
    "<br>"
   ]
  },
  {
   "cell_type": "code",
   "execution_count": 13,
   "metadata": {},
   "outputs": [
    {
     "data": {
      "text/plain": [
       "['Bush Somerset Collection Bookcase',\n",
       " 'Hon Deluxe Fabric Upholstered Stacking Chairs, Rounded Back',\n",
       " 'Self-Adhesive Address Labels for Typewriters by Universal',\n",
       " \"Eldon Fold 'N Roll Cart System\",\n",
       " 'Eldon Expressions Wood and Plastic Desk Accessories, Cherry Wood',\n",
       " 'Newell 322',\n",
       " 'Mitel 5320 IP Phone VoIP phone',\n",
       " 'DXL Angle-View Binders with Locking Rings by Samsill']"
      ]
     },
     "execution_count": 13,
     "metadata": {},
     "output_type": "execute_result"
    }
   ],
   "source": [
    "# Write the code here\n",
    "productsName.remove(\"Bretford CR4500 Series Slim Rectangular Table\")\n",
    "productsName"
   ]
  },
  {
   "cell_type": "markdown",
   "metadata": {},
   "source": [
    "***Question 3 (30 pts)***"
   ]
  },
  {
   "cell_type": "markdown",
   "metadata": {},
   "source": [
    "Assuming the lists customersTechnologies, customersTechnologies, and customersFurniture containing customers who purchased Office Supplies, technologies, and furniture, respectively\n",
    "<br>\n",
    "customersOfficeSupplies = [\"Darrin Van Huff\", \"Sean O'Donnell\", \"Brosina Hoffman\", \"Brosina Hoffman\", \"Brosina Hoffman\", \"Andrew Allen\", \"Irene Maddox\", \"Harold Pawlan\", \"Harold Pawlan\", \"Pete Kriz\"]\n",
    "<br>\n",
    "customersTechnologies = [\"Brosina Hoffman\",\"Brosina Hoffman\",\"Zuschuss Donatelli\",\"Eric Hoffmann\",\"Gene Hale\",\"Steve Nguyen\",\"Linda Cazamias\",\"Odella Nelson\",\"Lena Hernandez\",\"Lena Hernandez\"]\n",
    "<br>\n",
    "customersFurniture=[\"Claire Gute\",\"Claire Gute\",\"Sean O'Donnell\",\"Brosina Hoffman\",\"Brosina Hoffman\",\"Sandra Flanagan\",\"Emily Burns\",\"Tracy Blumstein\",\"Tracy Blumstein\",\"Gene Hale\"]\n",
    "<br>\n",
    "<br>"
   ]
  },
  {
   "cell_type": "code",
   "execution_count": 23,
   "metadata": {},
   "outputs": [],
   "source": [
    "customersOfficeSupplies = [\"Darrin Van Huff\", \"Sean O'Donnell\", \"Brosina Hoffman\", \"Brosina Hoffman\", \"Brosina Hoffman\", \"Andrew Allen\", \"Irene Maddox\", \"Harold Pawlan\", \"Harold Pawlan\", \"Pete Kriz\"]\n",
    "customersTechnologies = [\"Brosina Hoffman\",\"Brosina Hoffman\",\"Zuschuss Donatelli\",\"Eric Hoffmann\",\"Gene Hale\",\"Steve Nguyen\",\"Linda Cazamias\",\"Odella Nelson\",\"Lena Hernandez\",\"Lena Hernandez\"]\n",
    "customersFurniture=[\"Claire Gute\",\"Claire Gute\",\"Sean O'Donnell\",\"Brosina Hoffman\",\"Brosina Hoffman\",\"Sandra Flanagan\",\"Emily Burns\",\"Tracy Blumstein\",\"Tracy Blumstein\",\"Gene Hale\"]"
   ]
  },
  {
   "cell_type": "markdown",
   "metadata": {},
   "source": [
    "3.a) Write the code that converts customersOfficeSupplies into a set (2.5 pts), customersTechnologies into a set (2.5 pts), and customersFurniture into a set (2.5 pts)\n",
    "<br>"
   ]
  },
  {
   "cell_type": "code",
   "execution_count": 24,
   "metadata": {},
   "outputs": [],
   "source": [
    "# Write the code here\n",
    "set_customersOfficeSupplies=set(customersOfficeSupplies)\n",
    "set_customersTechnologies=set(customersTechnologies)\n",
    "set_customersFurniture=set(customersFurniture)"
   ]
  },
  {
   "cell_type": "code",
   "execution_count": 25,
   "metadata": {},
   "outputs": [
    {
     "data": {
      "text/plain": [
       "{'Andrew Allen',\n",
       " 'Brosina Hoffman',\n",
       " 'Darrin Van Huff',\n",
       " 'Harold Pawlan',\n",
       " 'Irene Maddox',\n",
       " 'Pete Kriz',\n",
       " \"Sean O'Donnell\"}"
      ]
     },
     "execution_count": 25,
     "metadata": {},
     "output_type": "execute_result"
    }
   ],
   "source": [
    "set_customersOfficeSupplies"
   ]
  },
  {
   "cell_type": "code",
   "execution_count": 27,
   "metadata": {},
   "outputs": [
    {
     "data": {
      "text/plain": [
       "{'Brosina Hoffman',\n",
       " 'Eric Hoffmann',\n",
       " 'Gene Hale',\n",
       " 'Lena Hernandez',\n",
       " 'Linda Cazamias',\n",
       " 'Odella Nelson',\n",
       " 'Steve Nguyen',\n",
       " 'Zuschuss Donatelli'}"
      ]
     },
     "execution_count": 27,
     "metadata": {},
     "output_type": "execute_result"
    }
   ],
   "source": [
    "set_customersTechnologies"
   ]
  },
  {
   "cell_type": "code",
   "execution_count": 28,
   "metadata": {},
   "outputs": [
    {
     "data": {
      "text/plain": [
       "{'Brosina Hoffman',\n",
       " 'Claire Gute',\n",
       " 'Emily Burns',\n",
       " 'Gene Hale',\n",
       " 'Sandra Flanagan',\n",
       " \"Sean O'Donnell\",\n",
       " 'Tracy Blumstein'}"
      ]
     },
     "execution_count": 28,
     "metadata": {},
     "output_type": "execute_result"
    }
   ],
   "source": [
    "set_customersFurniture"
   ]
  },
  {
   "cell_type": "markdown",
   "metadata": {},
   "source": [
    "3.b) Write the code that returns the number of unique customers who purchased office supplies (2.5 pts), the number of unique customers who purchased technologies (2.5 pts), and the number of unique customers who purchased furniture (2.5 pts)\n",
    "<br>"
   ]
  },
  {
   "cell_type": "code",
   "execution_count": 32,
   "metadata": {},
   "outputs": [
    {
     "data": {
      "text/plain": [
       "7"
      ]
     },
     "execution_count": 32,
     "metadata": {},
     "output_type": "execute_result"
    }
   ],
   "source": [
    "# Write the code here\n",
    "lu=[]\n",
    "count=0\n",
    "for item in customersOfficeSupplies:\n",
    "    if item not in lu:\n",
    "        count+=1\n",
    "        lu.append(item)\n",
    "count        "
   ]
  },
  {
   "cell_type": "code",
   "execution_count": 35,
   "metadata": {},
   "outputs": [
    {
     "data": {
      "text/plain": [
       "8"
      ]
     },
     "execution_count": 35,
     "metadata": {},
     "output_type": "execute_result"
    }
   ],
   "source": [
    "la=[]\n",
    "count=0\n",
    "for item in customersTechnologies:\n",
    "    if item not in la:\n",
    "        count+=1\n",
    "        la.append(item)\n",
    "count        "
   ]
  },
  {
   "cell_type": "code",
   "execution_count": 36,
   "metadata": {},
   "outputs": [
    {
     "data": {
      "text/plain": [
       "7"
      ]
     },
     "execution_count": 36,
     "metadata": {},
     "output_type": "execute_result"
    }
   ],
   "source": [
    "ln=[]\n",
    "count=0\n",
    "for item in customersFurniture:\n",
    "    if item not in ln:\n",
    "        count+=1\n",
    "        ln.append(item)\n",
    "count        "
   ]
  },
  {
   "cell_type": "markdown",
   "metadata": {},
   "source": [
    "3.c) Write the code that returns the customers who purchased either office supplies or technologies (5 pts)\n",
    "<br>"
   ]
  },
  {
   "cell_type": "code",
   "execution_count": 72,
   "metadata": {},
   "outputs": [
    {
     "name": "stdout",
     "output_type": "stream",
     "text": [
      "{'Brosina Hoffman'}\n"
     ]
    }
   ],
   "source": [
    "# Write the code here\n",
    "customersBoth=set_customersOfficeSupplies.intersection(customersTechnologies)\n",
    "print(customersBoth)"
   ]
  },
  {
   "cell_type": "markdown",
   "metadata": {},
   "source": [
    "3.d) Write the code that returns the customers who purchased office supplies, technologies and furniture (5 pts)\n",
    "<br>"
   ]
  },
  {
   "cell_type": "code",
   "execution_count": 74,
   "metadata": {},
   "outputs": [
    {
     "name": "stdout",
     "output_type": "stream",
     "text": [
      "{'Brosina Hoffman'}\n"
     ]
    }
   ],
   "source": [
    "# Write the code here\n",
    "customersAll=set_customersOfficeSupplies.intersection(customersTechnologies,customersFurniture)\n",
    "print(customersAll)"
   ]
  },
  {
   "cell_type": "markdown",
   "metadata": {},
   "source": [
    "3.e) Write the code that returns the customers who purchased office supplies, but did not purchase technologies (5 pts)"
   ]
  },
  {
   "cell_type": "code",
   "execution_count": 75,
   "metadata": {},
   "outputs": [
    {
     "name": "stdout",
     "output_type": "stream",
     "text": [
      "{'Brosina Hoffman', \"Sean O'Donnell\"}\n"
     ]
    }
   ],
   "source": [
    "# Write the code here\n",
    "customersFurnBoth=set_customersOfficeSupplies.intersection(customersFurniture)\n",
    "print(customersFurnBoth)"
   ]
  },
  {
   "cell_type": "markdown",
   "metadata": {},
   "source": [
    "***Question 4 (20 pts)***"
   ]
  },
  {
   "cell_type": "markdown",
   "metadata": {},
   "source": [
    "4.a) What is the purpose of the code below? Explain based on the values that will be displayed (5 pts)"
   ]
  },
  {
   "cell_type": "code",
   "execution_count": null,
   "metadata": {},
   "outputs": [],
   "source": [
    "customersOfficeSupplies = [\"Darrin Van Huff\", \"Sean O'Donnell\", \"Brosina Hoffman\", \"Brosina Hoffman\", \"Brosina Hoffman\", \"Andrew Allen\", \"Irene Maddox\", \"Harold Pawlan\", \"Harold Pawlan\", \"Pete Kriz\"]\n",
    "for customer in customersOfficeSupplies:\n",
    "    if customer.startswith(\"B\"):\n",
    "        print(customer)"
   ]
  },
  {
   "cell_type": "code",
   "execution_count": null,
   "metadata": {},
   "outputs": [],
   "source": [
    "# Write response here\n",
    "The purpose of the code is to display the names that start with B in the list only."
   ]
  },
  {
   "cell_type": "markdown",
   "metadata": {},
   "source": [
    "4.b) What is the purpose of the code below? Explain based on the values that will be displayed (5 pts)"
   ]
  },
  {
   "cell_type": "code",
   "execution_count": null,
   "metadata": {},
   "outputs": [],
   "source": [
    "customersOfficeSupplies = [\"Darrin Van Huff\", \"Sean O'Donnell\", \"Brosina Hoffman\", \"Brosina Hoffman\", \"Brosina Hoffman\", \"Andrew Allen\", \"Irene Maddox\", \"Harold Pawlan\", \"Harold Pawlan\", \"Pete Kriz\"]\n",
    "for customer in customersOfficeSupplies:\n",
    "    print(customer.split(\" \")[0])"
   ]
  },
  {
   "cell_type": "code",
   "execution_count": null,
   "metadata": {},
   "outputs": [],
   "source": [
    "# Write response here\n",
    "The purpose is to split the names in the list into only showing thier first names."
   ]
  },
  {
   "cell_type": "markdown",
   "metadata": {},
   "source": [
    "4.c) What is the purpose of the code below? Explain based on the values that will be displayed (5 pts)"
   ]
  },
  {
   "cell_type": "code",
   "execution_count": null,
   "metadata": {},
   "outputs": [],
   "source": [
    "customersOfficeSupplies = [\"Darrin Van Huff\", \"Sean O'Donnell\", \"Brosina Hoffman\", \"Brosina Hoffman\", \"Brosina Hoffman\", \"Andrew Allen\", \"Irene Maddox\", \"Harold Pawlan\", \"Harold Pawlan\", \"Pete Kriz\"]\n",
    "for customer in set(customersOfficeSupplies):\n",
    "    print(customer + \":  \" + str(customersOfficeSupplies.count(customer)))"
   ]
  },
  {
   "cell_type": "code",
   "execution_count": null,
   "metadata": {},
   "outputs": [],
   "source": [
    "# Write response here\n",
    "The purpose is to list the names and how many times the names appear in the list."
   ]
  },
  {
   "cell_type": "markdown",
   "metadata": {},
   "source": [
    "4.d) Your colleague would like to create a dictionary containing the name of each customer as Key and the number of times the customer purchased office supply, technology, or furniture as Value. Complete the code below (5 pts)\n",
    "<br>\n",
    "<br>\n",
    "The output should be:\n",
    "<br>\n",
    "{'Eric Hoffmann': 1,\n",
    " 'Harold Pawlan': 2,\n",
    " \"Sean O'Donnell\": 2,\n",
    " 'Steve Nguyen': 1,\n",
    " 'Gene Hale': 2,\n",
    " 'Odella Nelson': 1,\n",
    " 'Emily Burns': 1,\n",
    " 'Linda Cazamias': 1,\n",
    " 'Zuschuss Donatelli': 1,\n",
    " 'Sandra Flanagan': 1,\n",
    " 'Pete Kriz': 1,\n",
    " 'Brosina Hoffman': 7,\n",
    " 'Lena Hernandez': 2,\n",
    " 'Claire Gute': 2,\n",
    " 'Andrew Allen': 1,\n",
    " 'Tracy Blumstein': 2,\n",
    " 'Irene Maddox': 1,\n",
    " 'Darrin Van Huff': 1}"
   ]
  },
  {
   "cell_type": "code",
   "execution_count": 107,
   "metadata": {},
   "outputs": [
    {
     "ename": "IndentationError",
     "evalue": "expected an indented block (<ipython-input-107-7d7f56e1436d>, line 7)",
     "output_type": "error",
     "traceback": [
      "\u001b[0;36m  File \u001b[0;32m\"<ipython-input-107-7d7f56e1436d>\"\u001b[0;36m, line \u001b[0;32m7\u001b[0m\n\u001b[0;31m    # Add the code here\u001b[0m\n\u001b[0m                       ^\u001b[0m\n\u001b[0;31mIndentationError\u001b[0m\u001b[0;31m:\u001b[0m expected an indented block\n"
     ]
    }
   ],
   "source": [
    "customersOfficeSupplies = [\"Darrin Van Huff\", \"Sean O'Donnell\", \"Brosina Hoffman\", \"Brosina Hoffman\", \"Brosina Hoffman\", \"Andrew Allen\", \"Irene Maddox\", \"Harold Pawlan\", \"Harold Pawlan\", \"Pete Kriz\"]\n",
    "customersTechnologies = [\"Brosina Hoffman\",\"Brosina Hoffman\",\"Zuschuss Donatelli\",\"Eric Hoffmann\",\"Gene Hale\",\"Steve Nguyen\",\"Linda Cazamias\",\"Odella Nelson\",\"Lena Hernandez\",\"Lena Hernandez\"]\n",
    "customersFurniture=[\"Claire Gute\",\"Claire Gute\",\"Sean O'Donnell\",\"Brosina Hoffman\",\"Brosina Hoffman\",\"Sandra Flanagan\",\"Emily Burns\",\"Tracy Blumstein\",\"Tracy Blumstein\",\"Gene Hale\"]\n",
    "customers = customersOfficeSupplies + customersTechnologies + customersFurniture\n",
    "customersDict = {}\n",
    "for uniqueCustomer in set(customers):\n",
    "    # Add the code here"
   ]
  },
  {
   "cell_type": "markdown",
   "metadata": {},
   "source": [
    "***Question 5 (45 pts)***"
   ]
  },
  {
   "cell_type": "markdown",
   "metadata": {},
   "source": [
    "5.a) After downloading the CSV file on your computer, update the path and write the code to display the first 5 rows of the data (5 pts)"
   ]
  },
  {
   "cell_type": "code",
   "execution_count": 39,
   "metadata": {},
   "outputs": [],
   "source": [
    "import pandas as pd\n",
    "path = r'Sample - Superstore_Orders.csv'\n",
    "superStoreData = pd.read_csv(path)"
   ]
  },
  {
   "cell_type": "code",
   "execution_count": 41,
   "metadata": {},
   "outputs": [
    {
     "data": {
      "text/html": [
       "<div>\n",
       "<style scoped>\n",
       "    .dataframe tbody tr th:only-of-type {\n",
       "        vertical-align: middle;\n",
       "    }\n",
       "\n",
       "    .dataframe tbody tr th {\n",
       "        vertical-align: top;\n",
       "    }\n",
       "\n",
       "    .dataframe thead th {\n",
       "        text-align: right;\n",
       "    }\n",
       "</style>\n",
       "<table border=\"1\" class=\"dataframe\">\n",
       "  <thead>\n",
       "    <tr style=\"text-align: right;\">\n",
       "      <th></th>\n",
       "      <th>Category</th>\n",
       "      <th>City</th>\n",
       "      <th>Country/Region</th>\n",
       "      <th>Customer Name</th>\n",
       "      <th>Manufacturer</th>\n",
       "      <th>Order Date</th>\n",
       "      <th>Order ID</th>\n",
       "      <th>Postal Code</th>\n",
       "      <th>Product Name</th>\n",
       "      <th>Region</th>\n",
       "      <th>Segment</th>\n",
       "      <th>Ship Date</th>\n",
       "      <th>Ship Mode</th>\n",
       "      <th>State</th>\n",
       "      <th>Sub-Category</th>\n",
       "      <th>Discount</th>\n",
       "      <th>Profit</th>\n",
       "      <th>Quantity</th>\n",
       "      <th>Sales</th>\n",
       "    </tr>\n",
       "  </thead>\n",
       "  <tbody>\n",
       "    <tr>\n",
       "      <th>0</th>\n",
       "      <td>Furniture</td>\n",
       "      <td>Henderson</td>\n",
       "      <td>United States</td>\n",
       "      <td>Claire Gute</td>\n",
       "      <td>Bush</td>\n",
       "      <td>11/8/2019</td>\n",
       "      <td>CA-2019-152156</td>\n",
       "      <td>42420.0</td>\n",
       "      <td>Bush Somerset Collection Bookcase</td>\n",
       "      <td>South</td>\n",
       "      <td>Consumer</td>\n",
       "      <td>11/11/2019</td>\n",
       "      <td>Second Class</td>\n",
       "      <td>Kentucky</td>\n",
       "      <td>Bookcases</td>\n",
       "      <td>0.00</td>\n",
       "      <td>41.9136</td>\n",
       "      <td>2</td>\n",
       "      <td>261.9600</td>\n",
       "    </tr>\n",
       "    <tr>\n",
       "      <th>1</th>\n",
       "      <td>Furniture</td>\n",
       "      <td>Henderson</td>\n",
       "      <td>United States</td>\n",
       "      <td>Claire Gute</td>\n",
       "      <td>Hon</td>\n",
       "      <td>11/8/2019</td>\n",
       "      <td>CA-2019-152156</td>\n",
       "      <td>42420.0</td>\n",
       "      <td>Hon Deluxe Fabric Upholstered Stacking Chairs,...</td>\n",
       "      <td>South</td>\n",
       "      <td>Consumer</td>\n",
       "      <td>11/11/2019</td>\n",
       "      <td>Second Class</td>\n",
       "      <td>Kentucky</td>\n",
       "      <td>Chairs</td>\n",
       "      <td>0.00</td>\n",
       "      <td>219.5820</td>\n",
       "      <td>3</td>\n",
       "      <td>731.9400</td>\n",
       "    </tr>\n",
       "    <tr>\n",
       "      <th>2</th>\n",
       "      <td>Office Supplies</td>\n",
       "      <td>Los Angeles</td>\n",
       "      <td>United States</td>\n",
       "      <td>Darrin Van Huff</td>\n",
       "      <td>Universal</td>\n",
       "      <td>6/12/2019</td>\n",
       "      <td>CA-2019-138688</td>\n",
       "      <td>90036.0</td>\n",
       "      <td>Self-Adhesive Address Labels for Typewriters b...</td>\n",
       "      <td>West</td>\n",
       "      <td>Corporate</td>\n",
       "      <td>6/16/2019</td>\n",
       "      <td>Second Class</td>\n",
       "      <td>California</td>\n",
       "      <td>Labels</td>\n",
       "      <td>0.00</td>\n",
       "      <td>6.8714</td>\n",
       "      <td>2</td>\n",
       "      <td>14.6200</td>\n",
       "    </tr>\n",
       "    <tr>\n",
       "      <th>3</th>\n",
       "      <td>Furniture</td>\n",
       "      <td>Fort Lauderdale</td>\n",
       "      <td>United States</td>\n",
       "      <td>Sean O'Donnell</td>\n",
       "      <td>Bretford</td>\n",
       "      <td>10/11/2018</td>\n",
       "      <td>US-2018-108966</td>\n",
       "      <td>33311.0</td>\n",
       "      <td>Bretford CR4500 Series Slim Rectangular Table</td>\n",
       "      <td>South</td>\n",
       "      <td>Consumer</td>\n",
       "      <td>10/18/2018</td>\n",
       "      <td>Standard Class</td>\n",
       "      <td>Florida</td>\n",
       "      <td>Tables</td>\n",
       "      <td>0.45</td>\n",
       "      <td>-383.0310</td>\n",
       "      <td>5</td>\n",
       "      <td>957.5775</td>\n",
       "    </tr>\n",
       "    <tr>\n",
       "      <th>4</th>\n",
       "      <td>Office Supplies</td>\n",
       "      <td>Fort Lauderdale</td>\n",
       "      <td>United States</td>\n",
       "      <td>Sean O'Donnell</td>\n",
       "      <td>Eldon</td>\n",
       "      <td>10/11/2018</td>\n",
       "      <td>US-2018-108966</td>\n",
       "      <td>33311.0</td>\n",
       "      <td>Eldon Fold 'N Roll Cart System</td>\n",
       "      <td>South</td>\n",
       "      <td>Consumer</td>\n",
       "      <td>10/18/2018</td>\n",
       "      <td>Standard Class</td>\n",
       "      <td>Florida</td>\n",
       "      <td>Storage</td>\n",
       "      <td>0.20</td>\n",
       "      <td>2.5164</td>\n",
       "      <td>2</td>\n",
       "      <td>22.3680</td>\n",
       "    </tr>\n",
       "  </tbody>\n",
       "</table>\n",
       "</div>"
      ],
      "text/plain": [
       "          Category             City Country/Region    Customer Name  \\\n",
       "0        Furniture        Henderson  United States      Claire Gute   \n",
       "1        Furniture        Henderson  United States      Claire Gute   \n",
       "2  Office Supplies      Los Angeles  United States  Darrin Van Huff   \n",
       "3        Furniture  Fort Lauderdale  United States   Sean O'Donnell   \n",
       "4  Office Supplies  Fort Lauderdale  United States   Sean O'Donnell   \n",
       "\n",
       "  Manufacturer  Order Date        Order ID  Postal Code  \\\n",
       "0         Bush   11/8/2019  CA-2019-152156      42420.0   \n",
       "1          Hon   11/8/2019  CA-2019-152156      42420.0   \n",
       "2    Universal   6/12/2019  CA-2019-138688      90036.0   \n",
       "3     Bretford  10/11/2018  US-2018-108966      33311.0   \n",
       "4        Eldon  10/11/2018  US-2018-108966      33311.0   \n",
       "\n",
       "                                        Product Name Region    Segment  \\\n",
       "0                  Bush Somerset Collection Bookcase  South   Consumer   \n",
       "1  Hon Deluxe Fabric Upholstered Stacking Chairs,...  South   Consumer   \n",
       "2  Self-Adhesive Address Labels for Typewriters b...   West  Corporate   \n",
       "3      Bretford CR4500 Series Slim Rectangular Table  South   Consumer   \n",
       "4                     Eldon Fold 'N Roll Cart System  South   Consumer   \n",
       "\n",
       "    Ship Date       Ship Mode       State Sub-Category  Discount    Profit  \\\n",
       "0  11/11/2019    Second Class    Kentucky    Bookcases      0.00   41.9136   \n",
       "1  11/11/2019    Second Class    Kentucky       Chairs      0.00  219.5820   \n",
       "2   6/16/2019    Second Class  California       Labels      0.00    6.8714   \n",
       "3  10/18/2018  Standard Class     Florida       Tables      0.45 -383.0310   \n",
       "4  10/18/2018  Standard Class     Florida      Storage      0.20    2.5164   \n",
       "\n",
       "   Quantity     Sales  \n",
       "0         2  261.9600  \n",
       "1         3  731.9400  \n",
       "2         2   14.6200  \n",
       "3         5  957.5775  \n",
       "4         2   22.3680  "
      ]
     },
     "execution_count": 41,
     "metadata": {},
     "output_type": "execute_result"
    }
   ],
   "source": [
    "# Write the code here\n",
    "superStoreData.loc[0:4]"
   ]
  },
  {
   "cell_type": "markdown",
   "metadata": {},
   "source": [
    "5.b) Below is the code that creates a Numpy array containing the list of Order ID from superStoreData. Create the code that returns three Numpy arrays. The first one containing the list of City, the second one containing the list of Order Date, the third one containing the list of Sales. (7.5 pts)\n",
    "\n",
    "import numpy as np<br>\n",
    "superStoreOrderIds = np.array(superStoreData[\"Order ID\"])<br>\n",
    "superStoreOrderIds"
   ]
  },
  {
   "cell_type": "code",
   "execution_count": 94,
   "metadata": {},
   "outputs": [],
   "source": [
    "# Write the code here\n",
    "import numpy as np\n",
    "superStoreOrderids=np.array(superStoreData[\"Order ID\"])\n",
    "superStoreCityNames=np.array(superStoreData[\"City\"])\n",
    "superStoreOrdersDate=np.array(superStoreData[\"Order Date\"])\n",
    "superStoreSales=np.array(superStoreData[\"Sales\"])"
   ]
  },
  {
   "cell_type": "code",
   "execution_count": 53,
   "metadata": {},
   "outputs": [
    {
     "data": {
      "text/plain": [
       "array(['Henderson', 'Henderson', 'Los Angeles', ..., 'Costa Mesa',\n",
       "       'Costa Mesa', 'Westminster'], dtype=object)"
      ]
     },
     "execution_count": 53,
     "metadata": {},
     "output_type": "execute_result"
    }
   ],
   "source": [
    "superStoreCityNames"
   ]
  },
  {
   "cell_type": "code",
   "execution_count": 54,
   "metadata": {},
   "outputs": [
    {
     "data": {
      "text/plain": [
       "array(['11/8/2019', '11/8/2019', '6/12/2019', ..., '2/26/2020',\n",
       "       '2/26/2020', '5/4/2020'], dtype=object)"
      ]
     },
     "execution_count": 54,
     "metadata": {},
     "output_type": "execute_result"
    }
   ],
   "source": [
    "superStoreOrdersDate"
   ]
  },
  {
   "cell_type": "code",
   "execution_count": 55,
   "metadata": {},
   "outputs": [
    {
     "data": {
      "text/plain": [
       "array([261.96 , 731.94 ,  14.62 , ..., 258.576,  29.6  , 243.16 ])"
      ]
     },
     "execution_count": 55,
     "metadata": {},
     "output_type": "execute_result"
    }
   ],
   "source": [
    "superStoreSales"
   ]
  },
  {
   "cell_type": "markdown",
   "metadata": {},
   "source": [
    "5.c) Write the code that changes the data type of the Numpy array containing Order Date to datetime64 (5 pts)"
   ]
  },
  {
   "cell_type": "code",
   "execution_count": 63,
   "metadata": {},
   "outputs": [
    {
     "ename": "ValueError",
     "evalue": "Cannot create a NumPy datetime other than NaT with generic units",
     "output_type": "error",
     "traceback": [
      "\u001b[0;31m---------------------------------------------------------------------------\u001b[0m",
      "\u001b[0;31mValueError\u001b[0m                                Traceback (most recent call last)",
      "\u001b[0;32m<ipython-input-63-e9aec26e7a8a>\u001b[0m in \u001b[0;36m<module>\u001b[0;34m\u001b[0m\n\u001b[1;32m      1\u001b[0m \u001b[0;31m# Write the code here\u001b[0m\u001b[0;34m\u001b[0m\u001b[0;34m\u001b[0m\u001b[0;34m\u001b[0m\u001b[0m\n\u001b[1;32m      2\u001b[0m \u001b[0msuperStoreOrderDate\u001b[0m\u001b[0;34m=\u001b[0m\u001b[0;34m[\u001b[0m\u001b[0;34m\"Order Date\"\u001b[0m\u001b[0;34m]\u001b[0m\u001b[0;34m\u001b[0m\u001b[0;34m\u001b[0m\u001b[0m\n\u001b[0;32m----> 3\u001b[0;31m \u001b[0msuperStoreOrderDate_arr\u001b[0m\u001b[0;34m=\u001b[0m\u001b[0mnp\u001b[0m\u001b[0;34m.\u001b[0m\u001b[0marray\u001b[0m\u001b[0;34m(\u001b[0m\u001b[0msuperStoreOrderDate\u001b[0m\u001b[0;34m,\u001b[0m \u001b[0mdtype\u001b[0m\u001b[0;34m=\u001b[0m\u001b[0mnp\u001b[0m\u001b[0;34m.\u001b[0m\u001b[0mdatetime64\u001b[0m\u001b[0;34m)\u001b[0m\u001b[0;34m\u001b[0m\u001b[0;34m\u001b[0m\u001b[0m\n\u001b[0m\u001b[1;32m      4\u001b[0m \u001b[0msuperStoreOrderDate_arr\u001b[0m\u001b[0;34m.\u001b[0m\u001b[0mdtype\u001b[0m\u001b[0;34m\u001b[0m\u001b[0;34m\u001b[0m\u001b[0m\n",
      "\u001b[0;31mValueError\u001b[0m: Cannot create a NumPy datetime other than NaT with generic units"
     ]
    }
   ],
   "source": [
    "# Write the code here\n",
    "superStoreOrderDate=[\"Order Date\"]\n",
    "superStoreOrderDate_arr=np.array(superStoreOrderDate, dtype=np.datetime64)\n",
    "superStoreOrderDate_arr.dtype"
   ]
  },
  {
   "cell_type": "markdown",
   "metadata": {},
   "source": [
    "5.d) Below is the code that returns the customers who purchased \"Tables\". Write the code that returns the Order IDs made in 2019 (5 pts), the Order IDs made in the state of California (5 pts), and the Order IDs made in the state of California in 2019 (5 pts)\n",
    "\n",
    "\n",
    "import numpy as np<br>\n",
    "superStoreCustomersNames = np.array(superStoreData[\"Customer Name\"])<br>\n",
    "superStoreAllSubCategories = np.array(superStoreData[\"Sub-Category\"])<br>\n",
    "superStoreCustomersNames[(superStoreAllSubCategories == \"Tables\")]<br>"
   ]
  },
  {
   "cell_type": "code",
   "execution_count": 98,
   "metadata": {},
   "outputs": [
    {
     "data": {
      "text/plain": [
       "array(['CA-2019-138688', 'CA-2017-115812', 'CA-2017-115812', ...,\n",
       "       'CA-2020-121258', 'CA-2020-121258', 'CA-2020-119914'], dtype=object)"
      ]
     },
     "execution_count": 98,
     "metadata": {},
     "output_type": "execute_result"
    }
   ],
   "source": [
    "# Write the code here\n",
    "import numpy as np\n",
    "superStoreOrderid=np.array(superStoreData[\"Order ID\"])\n",
    "superStoreStateSub=np.array(superStoreData[\"State\"])\n",
    "superStoreOrderid[(superStoreStateSub==\"California\")]"
   ]
  },
  {
   "cell_type": "code",
   "execution_count": 102,
   "metadata": {},
   "outputs": [
    {
     "data": {
      "text/plain": [
       "array([], dtype=object)"
      ]
     },
     "execution_count": 102,
     "metadata": {},
     "output_type": "execute_result"
    }
   ],
   "source": [
    "import numpy as np\n",
    "superStoreOrder=np.array(superStoreData[\"Order ID\"])\n",
    "superStoreDateSub=np.array(superStoreData[\"Order Date\"])\n",
    "superStoreOrder[(superStoreDateSub == 2019)]"
   ]
  },
  {
   "cell_type": "code",
   "execution_count": 106,
   "metadata": {},
   "outputs": [
    {
     "data": {
      "text/plain": [
       "array([], dtype=object)"
      ]
     },
     "execution_count": 106,
     "metadata": {},
     "output_type": "execute_result"
    }
   ],
   "source": [
    "import numpy as np\n",
    "superStoreOrder=np.array(superStoreData[\"Order ID\"])\n",
    "superStoreDateSub=np.array(superStoreData[\"Order Date\"])\n",
    "superStoreStateSub=np.array(superStoreData[\"State\"])\n",
    "superStoreOrder[]"
   ]
  },
  {
   "cell_type": "code",
   "execution_count": null,
   "metadata": {},
   "outputs": [],
   "source": []
  },
  {
   "cell_type": "markdown",
   "metadata": {},
   "source": [
    "5.e) Write the code that lists the Order Ids that are profitable (i.e., Profit above 0) (2.5 pts)"
   ]
  },
  {
   "cell_type": "code",
   "execution_count": 103,
   "metadata": {},
   "outputs": [
    {
     "ename": "NameError",
     "evalue": "name 'superStoreOrdersid' is not defined",
     "output_type": "error",
     "traceback": [
      "\u001b[0;31m---------------------------------------------------------------------------\u001b[0m",
      "\u001b[0;31mNameError\u001b[0m                                 Traceback (most recent call last)",
      "\u001b[0;32m<ipython-input-103-c3457bb5160b>\u001b[0m in \u001b[0;36m<module>\u001b[0;34m\u001b[0m\n\u001b[1;32m      1\u001b[0m \u001b[0;31m# Write the code here\u001b[0m\u001b[0;34m\u001b[0m\u001b[0;34m\u001b[0m\u001b[0;34m\u001b[0m\u001b[0m\n\u001b[0;32m----> 2\u001b[0;31m \u001b[0msuperStoreOrdersid\u001b[0m \u001b[0;34m>\u001b[0m \u001b[0;36m0\u001b[0m\u001b[0;34m\u001b[0m\u001b[0;34m\u001b[0m\u001b[0m\n\u001b[0m",
      "\u001b[0;31mNameError\u001b[0m: name 'superStoreOrdersid' is not defined"
     ]
    }
   ],
   "source": [
    "# Write the code here\n",
    "superStoreOrdersid > 0"
   ]
  },
  {
   "cell_type": "markdown",
   "metadata": {},
   "source": [
    "5.f) Write the code that returns the correlation matrix (5 pts), and some descriptive statistics (5 pts).\n",
    "\n",
    "<br>\n",
    "For the descriptive statistics, you should use the function describe()"
   ]
  },
  {
   "cell_type": "code",
   "execution_count": 64,
   "metadata": {},
   "outputs": [
    {
     "data": {
      "text/html": [
       "<div>\n",
       "<style scoped>\n",
       "    .dataframe tbody tr th:only-of-type {\n",
       "        vertical-align: middle;\n",
       "    }\n",
       "\n",
       "    .dataframe tbody tr th {\n",
       "        vertical-align: top;\n",
       "    }\n",
       "\n",
       "    .dataframe thead th {\n",
       "        text-align: right;\n",
       "    }\n",
       "</style>\n",
       "<table border=\"1\" class=\"dataframe\">\n",
       "  <thead>\n",
       "    <tr style=\"text-align: right;\">\n",
       "      <th></th>\n",
       "      <th>Postal Code</th>\n",
       "      <th>Discount</th>\n",
       "      <th>Profit</th>\n",
       "      <th>Quantity</th>\n",
       "      <th>Sales</th>\n",
       "    </tr>\n",
       "  </thead>\n",
       "  <tbody>\n",
       "    <tr>\n",
       "      <th>Postal Code</th>\n",
       "      <td>1.000000</td>\n",
       "      <td>0.057243</td>\n",
       "      <td>-0.028751</td>\n",
       "      <td>0.013376</td>\n",
       "      <td>-0.022346</td>\n",
       "    </tr>\n",
       "    <tr>\n",
       "      <th>Discount</th>\n",
       "      <td>0.057243</td>\n",
       "      <td>1.000000</td>\n",
       "      <td>-0.219487</td>\n",
       "      <td>0.008623</td>\n",
       "      <td>-0.028190</td>\n",
       "    </tr>\n",
       "    <tr>\n",
       "      <th>Profit</th>\n",
       "      <td>-0.028751</td>\n",
       "      <td>-0.219487</td>\n",
       "      <td>1.000000</td>\n",
       "      <td>0.066253</td>\n",
       "      <td>0.479064</td>\n",
       "    </tr>\n",
       "    <tr>\n",
       "      <th>Quantity</th>\n",
       "      <td>0.013376</td>\n",
       "      <td>0.008623</td>\n",
       "      <td>0.066253</td>\n",
       "      <td>1.000000</td>\n",
       "      <td>0.200795</td>\n",
       "    </tr>\n",
       "    <tr>\n",
       "      <th>Sales</th>\n",
       "      <td>-0.022346</td>\n",
       "      <td>-0.028190</td>\n",
       "      <td>0.479064</td>\n",
       "      <td>0.200795</td>\n",
       "      <td>1.000000</td>\n",
       "    </tr>\n",
       "  </tbody>\n",
       "</table>\n",
       "</div>"
      ],
      "text/plain": [
       "             Postal Code  Discount    Profit  Quantity     Sales\n",
       "Postal Code     1.000000  0.057243 -0.028751  0.013376 -0.022346\n",
       "Discount        0.057243  1.000000 -0.219487  0.008623 -0.028190\n",
       "Profit         -0.028751 -0.219487  1.000000  0.066253  0.479064\n",
       "Quantity        0.013376  0.008623  0.066253  1.000000  0.200795\n",
       "Sales          -0.022346 -0.028190  0.479064  0.200795  1.000000"
      ]
     },
     "execution_count": 64,
     "metadata": {},
     "output_type": "execute_result"
    }
   ],
   "source": [
    "# Write the code here\n",
    "superStoreData.corr()"
   ]
  },
  {
   "cell_type": "code",
   "execution_count": 65,
   "metadata": {},
   "outputs": [
    {
     "data": {
      "text/html": [
       "<div>\n",
       "<style scoped>\n",
       "    .dataframe tbody tr th:only-of-type {\n",
       "        vertical-align: middle;\n",
       "    }\n",
       "\n",
       "    .dataframe tbody tr th {\n",
       "        vertical-align: top;\n",
       "    }\n",
       "\n",
       "    .dataframe thead th {\n",
       "        text-align: right;\n",
       "    }\n",
       "</style>\n",
       "<table border=\"1\" class=\"dataframe\">\n",
       "  <thead>\n",
       "    <tr style=\"text-align: right;\">\n",
       "      <th></th>\n",
       "      <th>Postal Code</th>\n",
       "      <th>Discount</th>\n",
       "      <th>Profit</th>\n",
       "      <th>Quantity</th>\n",
       "      <th>Sales</th>\n",
       "    </tr>\n",
       "  </thead>\n",
       "  <tbody>\n",
       "    <tr>\n",
       "      <th>count</th>\n",
       "      <td>9983.000000</td>\n",
       "      <td>9994.000000</td>\n",
       "      <td>9994.000000</td>\n",
       "      <td>9994.000000</td>\n",
       "      <td>9994.000000</td>\n",
       "    </tr>\n",
       "    <tr>\n",
       "      <th>mean</th>\n",
       "      <td>55245.233297</td>\n",
       "      <td>0.156203</td>\n",
       "      <td>28.656896</td>\n",
       "      <td>3.789574</td>\n",
       "      <td>229.858001</td>\n",
       "    </tr>\n",
       "    <tr>\n",
       "      <th>std</th>\n",
       "      <td>32038.715955</td>\n",
       "      <td>0.206452</td>\n",
       "      <td>234.260108</td>\n",
       "      <td>2.225110</td>\n",
       "      <td>623.245101</td>\n",
       "    </tr>\n",
       "    <tr>\n",
       "      <th>min</th>\n",
       "      <td>1040.000000</td>\n",
       "      <td>0.000000</td>\n",
       "      <td>-6599.978000</td>\n",
       "      <td>1.000000</td>\n",
       "      <td>0.444000</td>\n",
       "    </tr>\n",
       "    <tr>\n",
       "      <th>25%</th>\n",
       "      <td>23223.000000</td>\n",
       "      <td>0.000000</td>\n",
       "      <td>1.728750</td>\n",
       "      <td>2.000000</td>\n",
       "      <td>17.280000</td>\n",
       "    </tr>\n",
       "    <tr>\n",
       "      <th>50%</th>\n",
       "      <td>57103.000000</td>\n",
       "      <td>0.200000</td>\n",
       "      <td>8.666500</td>\n",
       "      <td>3.000000</td>\n",
       "      <td>54.490000</td>\n",
       "    </tr>\n",
       "    <tr>\n",
       "      <th>75%</th>\n",
       "      <td>90008.000000</td>\n",
       "      <td>0.200000</td>\n",
       "      <td>29.364000</td>\n",
       "      <td>5.000000</td>\n",
       "      <td>209.940000</td>\n",
       "    </tr>\n",
       "    <tr>\n",
       "      <th>max</th>\n",
       "      <td>99301.000000</td>\n",
       "      <td>0.800000</td>\n",
       "      <td>8399.976000</td>\n",
       "      <td>14.000000</td>\n",
       "      <td>22638.480000</td>\n",
       "    </tr>\n",
       "  </tbody>\n",
       "</table>\n",
       "</div>"
      ],
      "text/plain": [
       "        Postal Code     Discount       Profit     Quantity         Sales\n",
       "count   9983.000000  9994.000000  9994.000000  9994.000000   9994.000000\n",
       "mean   55245.233297     0.156203    28.656896     3.789574    229.858001\n",
       "std    32038.715955     0.206452   234.260108     2.225110    623.245101\n",
       "min     1040.000000     0.000000 -6599.978000     1.000000      0.444000\n",
       "25%    23223.000000     0.000000     1.728750     2.000000     17.280000\n",
       "50%    57103.000000     0.200000     8.666500     3.000000     54.490000\n",
       "75%    90008.000000     0.200000    29.364000     5.000000    209.940000\n",
       "max    99301.000000     0.800000  8399.976000    14.000000  22638.480000"
      ]
     },
     "execution_count": 65,
     "metadata": {},
     "output_type": "execute_result"
    }
   ],
   "source": [
    "superStoreData.describe()"
   ]
  },
  {
   "cell_type": "code",
   "execution_count": null,
   "metadata": {},
   "outputs": [],
   "source": []
  }
 ],
 "metadata": {
  "kernelspec": {
   "display_name": "Python 3",
   "language": "python",
   "name": "python3"
  },
  "language_info": {
   "codemirror_mode": {
    "name": "ipython",
    "version": 3
   },
   "file_extension": ".py",
   "mimetype": "text/x-python",
   "name": "python",
   "nbconvert_exporter": "python",
   "pygments_lexer": "ipython3",
   "version": "3.9.4"
  },
  "toc": {
   "base_numbering": 1,
   "nav_menu": {},
   "number_sections": true,
   "sideBar": true,
   "skip_h1_title": false,
   "title_cell": "Table of Contents",
   "title_sidebar": "Contents",
   "toc_cell": false,
   "toc_position": {},
   "toc_section_display": true,
   "toc_window_display": false
  }
 },
 "nbformat": 4,
 "nbformat_minor": 4
}
